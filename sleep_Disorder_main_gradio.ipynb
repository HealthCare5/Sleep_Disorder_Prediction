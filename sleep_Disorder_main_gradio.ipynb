{
 "cells": [
  {
   "cell_type": "code",
   "execution_count": 1,
   "id": "9670ba05-51bd-4076-b8a8-27d3e728e57b",
   "metadata": {},
   "outputs": [],
   "source": [
    "#importing the libraries\n",
    "import numpy as np\n",
    "import pandas as pd\n",
    "import matplotlib.pyplot as plt\n",
    "import seaborn as sns\n",
    "from sklearn.linear_model import LogisticRegression\n",
    "from sklearn.neighbors import KNeighborsClassifier\n",
    "from sklearn.metrics import accuracy_score\n",
    "\n",
    "#loading the dataset\n",
    "df = pd.read_csv('Sleep_health_and_lifestyle_dataset.csv')\n",
    "# df.head()"
   ]
  },
  {
   "cell_type": "code",
   "execution_count": 2,
   "id": "0a78ffc6-6f69-429a-9c71-51308f84e6a9",
   "metadata": {},
   "outputs": [],
   "source": [
    "#checking for missing values\n",
    "df.isnull().sum()\n",
    "#replacing the null values with 'None' in the column 'Sleep Disorder'\n",
    "df['Sleep Disorder'].fillna('None', inplace=True)\n",
    "#drop column Person ID\n",
    "df.drop('Person ID', axis=1, inplace=True)\n",
    "#spliting the blood pressure into two columns\n",
    "df['systolic_bp'] = df['Blood Pressure'].apply(lambda x: x.split('/')[0])\n",
    "df['diastolic_bp'] = df['Blood Pressure'].apply(lambda x: x.split('/')[1])\n",
    "#droping the blood pressure column\n",
    "df.drop('Blood Pressure', axis=1, inplace=True)\n",
    "#replacing normal weight with normal in BMI column\n",
    "df['BMI Category'] = df['BMI Category'].replace('Normal Weight', 'Normal')"
   ]
  },
  {
   "cell_type": "code",
   "execution_count": 3,
   "id": "e71de644-9ada-4d0a-802e-18d85e590400",
   "metadata": {},
   "outputs": [],
   "source": [
    "df['Gender'].replace({'Male':0, 'Female':1}, inplace=True)\n",
    "df['Occupation'].replace({'Software Engineer':0, 'Doctor':1,'Sales Representative':2,'Teacher':3,'Nurse':4,'Engineer':5,'Accountant':6,'Scientist':7,'Lawyer':8,'Salesperson':9,'Manager':10}, inplace=True)\n",
    "df['BMI Category'].replace({'Normal':0, 'Overweight':1, 'Obese':2}, inplace=True)\n",
    "df['Sleep Disorder'].replace({'None':0,'Insomnia':1, 'Sleep Apnea':2}, inplace=True)"
   ]
  },
  {
   "cell_type": "code",
   "execution_count": 4,
   "id": "f00b2fbb-4c8b-4c8d-aff5-d06027471691",
   "metadata": {},
   "outputs": [],
   "source": [
    "from sklearn.model_selection import train_test_split\n",
    "X_train, X_test, y_train, y_test = train_test_split(df.drop('Sleep Disorder',axis=1), df['Sleep Disorder'], test_size=0.2, random_state=42)"
   ]
  },
  {
   "cell_type": "code",
   "execution_count": 5,
   "id": "30f85df2-5272-4d97-ac01-856734facedd",
   "metadata": {},
   "outputs": [
    {
     "data": {
      "text/html": [
       "<style>#sk-container-id-1 {color: black;}#sk-container-id-1 pre{padding: 0;}#sk-container-id-1 div.sk-toggleable {background-color: white;}#sk-container-id-1 label.sk-toggleable__label {cursor: pointer;display: block;width: 100%;margin-bottom: 0;padding: 0.3em;box-sizing: border-box;text-align: center;}#sk-container-id-1 label.sk-toggleable__label-arrow:before {content: \"▸\";float: left;margin-right: 0.25em;color: #696969;}#sk-container-id-1 label.sk-toggleable__label-arrow:hover:before {color: black;}#sk-container-id-1 div.sk-estimator:hover label.sk-toggleable__label-arrow:before {color: black;}#sk-container-id-1 div.sk-toggleable__content {max-height: 0;max-width: 0;overflow: hidden;text-align: left;background-color: #f0f8ff;}#sk-container-id-1 div.sk-toggleable__content pre {margin: 0.2em;color: black;border-radius: 0.25em;background-color: #f0f8ff;}#sk-container-id-1 input.sk-toggleable__control:checked~div.sk-toggleable__content {max-height: 200px;max-width: 100%;overflow: auto;}#sk-container-id-1 input.sk-toggleable__control:checked~label.sk-toggleable__label-arrow:before {content: \"▾\";}#sk-container-id-1 div.sk-estimator input.sk-toggleable__control:checked~label.sk-toggleable__label {background-color: #d4ebff;}#sk-container-id-1 div.sk-label input.sk-toggleable__control:checked~label.sk-toggleable__label {background-color: #d4ebff;}#sk-container-id-1 input.sk-hidden--visually {border: 0;clip: rect(1px 1px 1px 1px);clip: rect(1px, 1px, 1px, 1px);height: 1px;margin: -1px;overflow: hidden;padding: 0;position: absolute;width: 1px;}#sk-container-id-1 div.sk-estimator {font-family: monospace;background-color: #f0f8ff;border: 1px dotted black;border-radius: 0.25em;box-sizing: border-box;margin-bottom: 0.5em;}#sk-container-id-1 div.sk-estimator:hover {background-color: #d4ebff;}#sk-container-id-1 div.sk-parallel-item::after {content: \"\";width: 100%;border-bottom: 1px solid gray;flex-grow: 1;}#sk-container-id-1 div.sk-label:hover label.sk-toggleable__label {background-color: #d4ebff;}#sk-container-id-1 div.sk-serial::before {content: \"\";position: absolute;border-left: 1px solid gray;box-sizing: border-box;top: 0;bottom: 0;left: 50%;z-index: 0;}#sk-container-id-1 div.sk-serial {display: flex;flex-direction: column;align-items: center;background-color: white;padding-right: 0.2em;padding-left: 0.2em;position: relative;}#sk-container-id-1 div.sk-item {position: relative;z-index: 1;}#sk-container-id-1 div.sk-parallel {display: flex;align-items: stretch;justify-content: center;background-color: white;position: relative;}#sk-container-id-1 div.sk-item::before, #sk-container-id-1 div.sk-parallel-item::before {content: \"\";position: absolute;border-left: 1px solid gray;box-sizing: border-box;top: 0;bottom: 0;left: 50%;z-index: -1;}#sk-container-id-1 div.sk-parallel-item {display: flex;flex-direction: column;z-index: 1;position: relative;background-color: white;}#sk-container-id-1 div.sk-parallel-item:first-child::after {align-self: flex-end;width: 50%;}#sk-container-id-1 div.sk-parallel-item:last-child::after {align-self: flex-start;width: 50%;}#sk-container-id-1 div.sk-parallel-item:only-child::after {width: 0;}#sk-container-id-1 div.sk-dashed-wrapped {border: 1px dashed gray;margin: 0 0.4em 0.5em 0.4em;box-sizing: border-box;padding-bottom: 0.4em;background-color: white;}#sk-container-id-1 div.sk-label label {font-family: monospace;font-weight: bold;display: inline-block;line-height: 1.2em;}#sk-container-id-1 div.sk-label-container {text-align: center;}#sk-container-id-1 div.sk-container {/* jupyter's `normalize.less` sets `[hidden] { display: none; }` but bootstrap.min.css set `[hidden] { display: none !important; }` so we also need the `!important` here to be able to override the default hidden behavior on the sphinx rendered scikit-learn.org. See: https://github.com/scikit-learn/scikit-learn/issues/21755 */display: inline-block !important;position: relative;}#sk-container-id-1 div.sk-text-repr-fallback {display: none;}</style><div id=\"sk-container-id-1\" class=\"sk-top-container\"><div class=\"sk-text-repr-fallback\"><pre>RandomForestClassifier()</pre><b>In a Jupyter environment, please rerun this cell to show the HTML representation or trust the notebook. <br />On GitHub, the HTML representation is unable to render, please try loading this page with nbviewer.org.</b></div><div class=\"sk-container\" hidden><div class=\"sk-item\"><div class=\"sk-estimator sk-toggleable\"><input class=\"sk-toggleable__control sk-hidden--visually\" id=\"sk-estimator-id-1\" type=\"checkbox\" checked><label for=\"sk-estimator-id-1\" class=\"sk-toggleable__label sk-toggleable__label-arrow\">RandomForestClassifier</label><div class=\"sk-toggleable__content\"><pre>RandomForestClassifier()</pre></div></div></div></div></div>"
      ],
      "text/plain": [
       "RandomForestClassifier()"
      ]
     },
     "execution_count": 5,
     "metadata": {},
     "output_type": "execute_result"
    }
   ],
   "source": [
    "from sklearn.ensemble import RandomForestClassifier\n",
    "rfc = RandomForestClassifier()\n",
    "rfc.fit(X_train, y_train)"
   ]
  },
  {
   "cell_type": "code",
   "execution_count": 6,
   "id": "0e5e0594-7dde-4fe7-99d7-6a6af27f4af8",
   "metadata": {},
   "outputs": [],
   "source": [
    "def func(a, b, c, d, e, f, g, h, i, j, k, l):\n",
    "    \n",
    "    \n",
    "    x_test = [[a, b, c, d, e, f, g, h, i, j, k, l]]\n",
    "    result = rfc.predict(x_test)[0]\n",
    "    dict = {\n",
    "        0 : \"None\",\n",
    "        1: \"Insomnia\",\n",
    "        2 : \"Sleep Apnea\"\n",
    "    }\n",
    "\n",
    "    if result==0:\n",
    "        str = \"Yay! You are totally fit 😃😎\"\n",
    "    elif result==1:\n",
    "        str = \"You may be suffering from Sleep Insomnia 😐😐\"\n",
    "    else:\n",
    "        str=\"You may be suffering from Sleep Apnea 🙁🙁\"\n",
    "    return f\"{dict[result]}\\n\\n{str}\"\n",
    "    "
   ]
  },
  {
   "cell_type": "code",
   "execution_count": 7,
   "id": "ab32aa3d-1975-48b0-aab5-c2e4a8a82b53",
   "metadata": {},
   "outputs": [
    {
     "name": "stderr",
     "output_type": "stream",
     "text": [
      "C:\\Users\\iamad\\AppData\\Local\\Programs\\Python\\Python311\\Lib\\site-packages\\tqdm\\auto.py:21: TqdmWarning: IProgress not found. Please update jupyter and ipywidgets. See https://ipywidgets.readthedocs.io/en/stable/user_install.html\n",
      "  from .autonotebook import tqdm as notebook_tqdm\n"
     ]
    },
    {
     "name": "stdout",
     "output_type": "stream",
     "text": [
      "Running on local URL:  http://127.0.0.1:7860\n",
      "\n",
      "To create a public link, set `share=True` in `launch()`.\n"
     ]
    },
    {
     "data": {
      "text/plain": []
     },
     "execution_count": 7,
     "metadata": {},
     "output_type": "execute_result"
    },
    {
     "name": "stderr",
     "output_type": "stream",
     "text": [
      "C:\\Users\\iamad\\AppData\\Local\\Programs\\Python\\Python311\\Lib\\site-packages\\sklearn\\base.py:464: UserWarning: X does not have valid feature names, but RandomForestClassifier was fitted with feature names\n",
      "  warnings.warn(\n",
      "C:\\Users\\iamad\\AppData\\Local\\Programs\\Python\\Python311\\Lib\\site-packages\\sklearn\\base.py:464: UserWarning: X does not have valid feature names, but RandomForestClassifier was fitted with feature names\n",
      "  warnings.warn(\n"
     ]
    }
   ],
   "source": [
    "import gradio as gr\n",
    "\n",
    "demo = gr.Interface(\n",
    "    fn= func,\n",
    "    inputs=[\n",
    "        gr.Textbox(label=\"Gender\", placeholder=\"Enter 0 for Male and 1 for Female\", elem_id=\"gender\",type='text'),\n",
    "        gr.Textbox(label=\"Age\", placeholder=\"Enter Your Age\", elem_id=\"gender\",type='text'),\n",
    "        gr.Textbox(label=\"Occupation\", placeholder=\"Enter from 0 - 10\", elem_id=\"gender\",type='text'),\n",
    "        gr.Textbox(label=\"Sleep Duration(in Hrs)\", placeholder=\"Enter Your Sleep Duration\", elem_id=\"gender\",type='text'),\n",
    "        gr.Textbox(label=\"Quality of Sleep\", placeholder=\"Enter Your Quality of Sleep\", elem_id=\"gender\",type='text'),\n",
    "        gr.Textbox(label=\"Physical Activity Level\", placeholder=\"Enter Your Physical Activity Level\", elem_id=\"gender\",type='text'),\n",
    "        gr.Textbox(label=\"Stress Level\", placeholder=\"Enter Your Stress Level\", elem_id=\"gender\",type='text'),\n",
    "        gr.Textbox(label=\"BMI Category\", placeholder=\"Enter 0 for Normal 1 for Overweight and 2 for Obeses\", elem_id=\"gender\",type='text'),\n",
    "        gr.Textbox(label=\"Systolic Blood Pressure\", placeholder=\"Enter Your Systolic Blood Pressure\", elem_id=\"gender\",type='text'),\n",
    "        gr.Textbox(label=\"Diastolic Blood Pressure\", placeholder=\"Enter Your Diastolic Blood Pressure\", elem_id=\"gender\",type='text'),\n",
    "        gr.Textbox(label=\"Heart Rate\", placeholder=\"Enter Your Heart Rate\", elem_id=\"gender\",type='text'),\n",
    "        gr.Textbox(label=\"Daily Steps Count\", placeholder=\"Enter Your Daily Steps Count\", elem_id=\"gender\",type='text')    \n",
    "    ],\n",
    "    outputs='text',\n",
    "    theme=gr.themes.Soft(),\n",
    "    title=\"<h1 id=title-first> Welcome to HEALTHSURE <br> <span id=title-second>Predict Your Sleep Disorder here using a ML Model</span> </h1>\",\n",
    "    description=\"<p id=desc>◾ Please Enter the Data in following way(Important)<br>◾ Gender: <span id=desc-info>Male=0 Female=1</span><br>◾ Occupation: <span id=desc-info> Software Engineer=0 Doctor=1 Sales Representative=2 Teacher=3 Nurse=4 <br>&nbsp; &nbsp;&nbsp;Engineer=5 Accontant=6 Scientist=7 Lawyer=8 SalesPerson=9 Manager=10</span> <br>◾ BMI Category: <span id=desc-info>Normal=0 OverWeight=1 Obese=2 </span></p> <br> <p id=desc>**Some Examples are given at bottom You can try them by clicking on it.<br>**Enter only Numeric Value</p>\",\n",
    "    css=\"\"\"\n",
    "    .gradio-container {background-color: #daeefe}\"\n",
    "         #gender { background-color : teal !important; }\n",
    "        #gender textarea {background-color: #ecf7fd; font-size : 15px; color : black;\n",
    "         font-weight : bold; !important;}\n",
    "        \n",
    "        #desc {font-weight : bold; color : black !important;}\n",
    "        #desc-info{font-weight:normal;}\n",
    "        h1 {text-align : center; font-size: 40px !important;}\n",
    "        #title-first {color:black;  !important;}\n",
    "        #title-second {color:green; font-size: 17px !important;}\n",
    "        #a-tag { color : white !important;}\n",
    "        \n",
    "        #a-tag:hover {text-decoration : none !important;}\n",
    "    \n",
    "    \"\"\",\n",
    "   \n",
    "    examples=[[0,\t44,\t9,\t6.3,\t6,\t45,\t7,\t1,\t130,85,\t72,\t6000],[1, 31, 4, 7.9, 8, 75, 4,\t0, 117, 76, 69, 6800],[1,\t49,\t4,\t6.1,\t6,\t90,\t8,\t1,\t140,95,\t75,\t10000]]\n",
    "    \n",
    "\n",
    ")\n",
    "\n",
    "\n",
    "demo.launch(inbrowser=True, inline=False)"
   ]
  }
 ],
 "metadata": {
  "kernelspec": {
   "display_name": "Python 3 (ipykernel)",
   "language": "python",
   "name": "python3"
  },
  "language_info": {
   "codemirror_mode": {
    "name": "ipython",
    "version": 3
   },
   "file_extension": ".py",
   "mimetype": "text/x-python",
   "name": "python",
   "nbconvert_exporter": "python",
   "pygments_lexer": "ipython3",
   "version": "3.11.4"
  }
 },
 "nbformat": 4,
 "nbformat_minor": 5
}
